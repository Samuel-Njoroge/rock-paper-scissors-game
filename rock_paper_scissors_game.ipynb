{
  "cells": [
    {
      "cell_type": "markdown",
      "metadata": {
        "id": "view-in-github",
        "colab_type": "text"
      },
      "source": [
        "<a href=\"https://colab.research.google.com/github/Samuel-Njoroge/rock-paper-scissors-game/blob/main/rock_paper_scissors_game.ipynb\" target=\"_parent\"><img src=\"https://colab.research.google.com/assets/colab-badge.svg\" alt=\"Open In Colab\"/></a>"
      ]
    },
    {
      "cell_type": "markdown",
      "metadata": {
        "id": "dICst7ZRIpwA"
      },
      "source": [
        "# **Rock Paper Scissors game.**\n",
        "\n",
        "Rock paper scissors is a hand game originating from China, usually played between two people, in which each player simultaneously forms one of three shapes with an outstretched hand. These shapes are \"rock\", \"paper\", and \"scissors\"\n",
        "\n",
        "Players start each round by saying, “rock, paper, scissors, shoot!” On “shoot,” each player holds out their fist for rock, flat hand for paper, or their index and middle finger for scissors. Rock crushes scissors, scissors cut paper, and paper covers rock. See who wins each round!.\n",
        "\n",
        "How to win.\n",
        "The Rock crushes the Scissors , the scissors cuts the Paper and the paper covers the Rock."
      ]
    },
    {
      "cell_type": "code",
      "execution_count": null,
      "metadata": {
        "id": "r-xuacq6IO9i"
      },
      "outputs": [],
      "source": [
        "#Importing the random library\n",
        "import random"
      ]
    },
    {
      "cell_type": "code",
      "execution_count": null,
      "metadata": {
        "id": "QA0zdGQuIVJ_"
      },
      "outputs": [],
      "source": [
        "#A list containing the three actions of the game.\n",
        "action_list = ['rock' ,'paper' ,'scissors']\n"
      ]
    },
    {
      "cell_type": "code",
      "execution_count": null,
      "metadata": {
        "colab": {
          "base_uri": "https://localhost:8080/"
        },
        "id": "dTLrtWR3IVMx",
        "outputId": "072a5e63-d4da-4ed5-c19d-3b276ca5e4fd"
      },
      "outputs": [
        {
          "name": "stdout",
          "output_type": "stream",
          "text": [
            "Enter the number of rounds you want to play3\n",
            "Round 1\n",
            "Please choose your actionscissors\n",
            "Computer paper\n",
            "Player scissors\n",
            "Winner is Player\n",
            "Round 2\n",
            "Please choose your actionrock\n",
            "Computer scissors\n",
            "Player rock\n",
            "Winner is Player\n",
            "Round 3\n",
            "Please choose your actionrock\n",
            "Computer rock\n",
            "Player rock\n",
            "Tie: Both players chose the same action\n",
            "Player won the score 0 : 2\n"
          ]
        }
      ],
      "source": [
        "#Setting the scores of players to 0\n",
        "computer_score = 0\n",
        "player_score = 0\n",
        "\n",
        "#Asking the user how many rounds they want to play\n",
        "total_rounds = input(\"Enter the number of rounds you want to play\")\n",
        "\n",
        "#Adding  a round_counter that is 0 at the beginning\n",
        "round_counter = 0\n",
        "\n",
        "#A while loop to put the game inside\n",
        "while True:\n",
        "\n",
        "#Increasing round_counter by 1 \n",
        "  round_counter += 1\n",
        "  print(\"Round\" ,round_counter)\n",
        "\n",
        "  #Selecting a random action for computer\n",
        "  computer_choice = random.choice(action_list)\n",
        "\n",
        "  #Asking a  player to choose an action\n",
        "  player_choice = input(\"Please choose your action\")\n",
        "\n",
        "  #Printing the players choices\n",
        "  print(\"Computer\" , computer_choice)\n",
        "  print(\"Player\" , player_choice)\n",
        "\n",
        "  #tie condition\n",
        "  if computer_choice == player_choice:\n",
        "    print(\"Tie: Both players chose the same action\")\n",
        "\n",
        "  #Remaining conditions\n",
        "  elif computer_choice == 'paper':\n",
        "    if player_choice == 'rock':\n",
        "      print(\"Winner is Computer\")\n",
        "      computer_score += 1\n",
        "    else:\n",
        "      print(\"Winner is Player\")\n",
        "      player_score += 1\n",
        "  elif  computer_choice == 'rock':\n",
        "    if player_choice == 'paper':\n",
        "      print(\"Winner is Player\")\n",
        "      player_score += 1\n",
        "    else:\n",
        "      print(\"Winner is Computer\")\n",
        "      computer_score +=1\n",
        "\n",
        "  elif computer_choice == 'scissors':\n",
        "    if player_choice == 'paper':\n",
        "      print(\"WInner is Computer\")\n",
        "      computer_score += 1\n",
        "    else:\n",
        "      print(\"Winner is Player\")\n",
        "      player_score += 1\n",
        "      \n",
        "  #Stop the while loop if the round_counter equals the number of total rounds\n",
        "  if round_counter == int(total_rounds):\n",
        "    break\n",
        "\n",
        "\n",
        "#Print the outcome of the game by using conditional statements\n",
        "if computer_score == player_score:\n",
        "  print(\"There is no winner\" , computer_score ,\":\" , player_score)\n",
        "elif computer_score > player_score:\n",
        "  print(\"Computer won the score\" , computer_score,\":\" , player_score)\n",
        "elif computer_score < player_score:\n",
        "  print(\"Player won the score\" , computer_score ,\":\" , player_score)"
      ]
    },
    {
      "cell_type": "code",
      "execution_count": null,
      "metadata": {
        "colab": {
          "base_uri": "https://localhost:8080/"
        },
        "id": "954n-cDpLyFO",
        "outputId": "ec8d5efe-c038-43f1-e280-787ecdc70ded"
      },
      "outputs": [
        {
          "name": "stdout",
          "output_type": "stream",
          "text": [
            "Looking in indexes: https://pypi.org/simple, https://us-python.pkg.dev/colab-wheels/public/simple/\n",
            "Requirement already satisfied: mljar-mercury in /usr/local/lib/python3.7/dist-packages (1.1.5)\n",
            "Requirement already satisfied: gevent==21.12.0 in /usr/local/lib/python3.7/dist-packages (from mljar-mercury) (21.12.0)\n",
            "Requirement already satisfied: django==3.2.5 in /usr/local/lib/python3.7/dist-packages (from mljar-mercury) (3.2.5)\n",
            "Requirement already satisfied: django-drf-filepond==0.4.1 in /usr/local/lib/python3.7/dist-packages (from mljar-mercury) (0.4.1)\n",
            "Requirement already satisfied: markdown==3.3.6 in /usr/local/lib/python3.7/dist-packages (from mljar-mercury) (3.3.6)\n",
            "Requirement already satisfied: ipython==7.30.1 in /usr/local/lib/python3.7/dist-packages (from mljar-mercury) (7.30.1)\n",
            "Requirement already satisfied: psutil==5.8.0 in /usr/local/lib/python3.7/dist-packages (from mljar-mercury) (5.8.0)\n",
            "Requirement already satisfied: whitenoise==5.3.0 in /usr/local/lib/python3.7/dist-packages (from mljar-mercury) (5.3.0)\n",
            "Requirement already satisfied: ipykernel==6.6.0 in /usr/local/lib/python3.7/dist-packages (from mljar-mercury) (6.6.0)\n",
            "Requirement already satisfied: django-cors-headers==3.10.1 in /usr/local/lib/python3.7/dist-packages (from mljar-mercury) (3.10.1)\n",
            "Requirement already satisfied: pyppeteer==1.0.2 in /usr/local/lib/python3.7/dist-packages (from mljar-mercury) (1.0.2)\n",
            "Requirement already satisfied: celery==5.1.2 in /usr/local/lib/python3.7/dist-packages (from mljar-mercury) (5.1.2)\n",
            "Requirement already satisfied: ipython-genutils in /usr/local/lib/python3.7/dist-packages (from mljar-mercury) (0.2.0)\n",
            "Requirement already satisfied: nbconvert>=6.5.0 in /usr/local/lib/python3.7/dist-packages (from mljar-mercury) (7.0.0)\n",
            "Requirement already satisfied: sqlalchemy==1.4.27 in /usr/local/lib/python3.7/dist-packages (from mljar-mercury) (1.4.27)\n",
            "Requirement already satisfied: python-dotenv==0.19.2 in /usr/local/lib/python3.7/dist-packages (from mljar-mercury) (0.19.2)\n",
            "Requirement already satisfied: pyyaml==6.0 in /usr/local/lib/python3.7/dist-packages (from mljar-mercury) (6.0)\n",
            "Requirement already satisfied: croniter==1.3.5 in /usr/local/lib/python3.7/dist-packages (from mljar-mercury) (1.3.5)\n",
            "Requirement already satisfied: djangorestframework==3.12.4 in /usr/local/lib/python3.7/dist-packages (from mljar-mercury) (3.12.4)\n",
            "Requirement already satisfied: django-filter==21.1 in /usr/local/lib/python3.7/dist-packages (from mljar-mercury) (21.1)\n",
            "Requirement already satisfied: kombu<6.0,>=5.1.0 in /usr/local/lib/python3.7/dist-packages (from celery==5.1.2->mljar-mercury) (5.2.4)\n",
            "Requirement already satisfied: click-plugins>=1.1.1 in /usr/local/lib/python3.7/dist-packages (from celery==5.1.2->mljar-mercury) (1.1.1)\n",
            "Requirement already satisfied: pytz>dev in /usr/local/lib/python3.7/dist-packages (from celery==5.1.2->mljar-mercury) (2022.2.1)\n",
            "Requirement already satisfied: billiard<4.0,>=3.6.4.0 in /usr/local/lib/python3.7/dist-packages (from celery==5.1.2->mljar-mercury) (3.6.4.0)\n",
            "Requirement already satisfied: vine<6.0,>=5.0.0 in /usr/local/lib/python3.7/dist-packages (from celery==5.1.2->mljar-mercury) (5.0.0)\n",
            "Requirement already satisfied: click-repl>=0.1.6 in /usr/local/lib/python3.7/dist-packages (from celery==5.1.2->mljar-mercury) (0.2.0)\n",
            "Requirement already satisfied: click<8.0,>=7.0 in /usr/local/lib/python3.7/dist-packages (from celery==5.1.2->mljar-mercury) (7.1.2)\n",
            "Requirement already satisfied: setuptools in /usr/local/lib/python3.7/dist-packages (from celery==5.1.2->mljar-mercury) (57.4.0)\n",
            "Requirement already satisfied: click-didyoumean>=0.0.3 in /usr/local/lib/python3.7/dist-packages (from celery==5.1.2->mljar-mercury) (0.3.0)\n",
            "Requirement already satisfied: python-dateutil in /usr/local/lib/python3.7/dist-packages (from croniter==1.3.5->mljar-mercury) (2.8.2)\n",
            "Requirement already satisfied: asgiref<4,>=3.3.2 in /usr/local/lib/python3.7/dist-packages (from django==3.2.5->mljar-mercury) (3.5.2)\n",
            "Requirement already satisfied: sqlparse>=0.2.2 in /usr/local/lib/python3.7/dist-packages (from django==3.2.5->mljar-mercury) (0.4.2)\n",
            "Requirement already satisfied: shortuuid>=0.5.0 in /usr/local/lib/python3.7/dist-packages (from django-drf-filepond==0.4.1->mljar-mercury) (1.0.9)\n",
            "Requirement already satisfied: requests>=2.20.1 in /usr/local/lib/python3.7/dist-packages (from django-drf-filepond==0.4.1->mljar-mercury) (2.23.0)\n",
            "Requirement already satisfied: six>=1.14.0 in /usr/local/lib/python3.7/dist-packages (from django-drf-filepond==0.4.1->mljar-mercury) (1.15.0)\n",
            "Requirement already satisfied: django-storages>=1.9.1 in /usr/local/lib/python3.7/dist-packages (from django-drf-filepond==0.4.1->mljar-mercury) (1.13.1)\n",
            "Requirement already satisfied: zope.event in /usr/local/lib/python3.7/dist-packages (from gevent==21.12.0->mljar-mercury) (4.5.0)\n",
            "Requirement already satisfied: zope.interface in /usr/local/lib/python3.7/dist-packages (from gevent==21.12.0->mljar-mercury) (5.4.0)\n",
            "Requirement already satisfied: greenlet<2.0,>=1.1.0 in /usr/local/lib/python3.7/dist-packages (from gevent==21.12.0->mljar-mercury) (1.1.3)\n",
            "Requirement already satisfied: importlib-metadata<5 in /usr/local/lib/python3.7/dist-packages (from ipykernel==6.6.0->mljar-mercury) (4.12.0)\n",
            "Requirement already satisfied: jupyter-client<8.0 in /usr/local/lib/python3.7/dist-packages (from ipykernel==6.6.0->mljar-mercury) (6.1.12)\n",
            "Requirement already satisfied: traitlets<6.0,>=5.1.0 in /usr/local/lib/python3.7/dist-packages (from ipykernel==6.6.0->mljar-mercury) (5.3.0)\n",
            "Requirement already satisfied: matplotlib-inline<0.2.0,>=0.1.0 in /usr/local/lib/python3.7/dist-packages (from ipykernel==6.6.0->mljar-mercury) (0.1.6)\n",
            "Requirement already satisfied: argcomplete>=1.12.3 in /usr/local/lib/python3.7/dist-packages (from ipykernel==6.6.0->mljar-mercury) (2.0.0)\n",
            "Requirement already satisfied: debugpy<2.0,>=1.0.0 in /usr/local/lib/python3.7/dist-packages (from ipykernel==6.6.0->mljar-mercury) (1.0.0)\n",
            "Requirement already satisfied: tornado<7.0,>=4.2 in /usr/local/lib/python3.7/dist-packages (from ipykernel==6.6.0->mljar-mercury) (5.1.1)\n",
            "Requirement already satisfied: pygments in /usr/local/lib/python3.7/dist-packages (from ipython==7.30.1->mljar-mercury) (2.6.1)\n",
            "Requirement already satisfied: backcall in /usr/local/lib/python3.7/dist-packages (from ipython==7.30.1->mljar-mercury) (0.2.0)\n",
            "Requirement already satisfied: pickleshare in /usr/local/lib/python3.7/dist-packages (from ipython==7.30.1->mljar-mercury) (0.7.5)\n",
            "Requirement already satisfied: pexpect>4.3 in /usr/local/lib/python3.7/dist-packages (from ipython==7.30.1->mljar-mercury) (4.8.0)\n",
            "Requirement already satisfied: prompt-toolkit!=3.0.0,!=3.0.1,<3.1.0,>=2.0.0 in /usr/local/lib/python3.7/dist-packages (from ipython==7.30.1->mljar-mercury) (2.0.10)\n",
            "Requirement already satisfied: decorator in /usr/local/lib/python3.7/dist-packages (from ipython==7.30.1->mljar-mercury) (4.4.2)\n",
            "Requirement already satisfied: jedi>=0.16 in /usr/local/lib/python3.7/dist-packages (from ipython==7.30.1->mljar-mercury) (0.18.1)\n",
            "Requirement already satisfied: pyee<9.0.0,>=8.1.0 in /usr/local/lib/python3.7/dist-packages (from pyppeteer==1.0.2->mljar-mercury) (8.2.2)\n",
            "Requirement already satisfied: websockets<11.0,>=10.0 in /usr/local/lib/python3.7/dist-packages (from pyppeteer==1.0.2->mljar-mercury) (10.3)\n",
            "Requirement already satisfied: urllib3<2.0.0,>=1.25.8 in /usr/local/lib/python3.7/dist-packages (from pyppeteer==1.0.2->mljar-mercury) (1.25.11)\n",
            "Requirement already satisfied: certifi>=2021 in /usr/local/lib/python3.7/dist-packages (from pyppeteer==1.0.2->mljar-mercury) (2022.6.15)\n",
            "Requirement already satisfied: appdirs<2.0.0,>=1.4.3 in /usr/local/lib/python3.7/dist-packages (from pyppeteer==1.0.2->mljar-mercury) (1.4.4)\n",
            "Requirement already satisfied: tqdm<5.0.0,>=4.42.1 in /usr/local/lib/python3.7/dist-packages (from pyppeteer==1.0.2->mljar-mercury) (4.64.0)\n",
            "Requirement already satisfied: typing-extensions in /usr/local/lib/python3.7/dist-packages (from asgiref<4,>=3.3.2->django==3.2.5->mljar-mercury) (4.1.1)\n",
            "Requirement already satisfied: zipp>=0.5 in /usr/local/lib/python3.7/dist-packages (from importlib-metadata<5->ipykernel==6.6.0->mljar-mercury) (3.8.1)\n",
            "Requirement already satisfied: parso<0.9.0,>=0.8.0 in /usr/local/lib/python3.7/dist-packages (from jedi>=0.16->ipython==7.30.1->mljar-mercury) (0.8.3)\n",
            "Requirement already satisfied: pyzmq>=13 in /usr/local/lib/python3.7/dist-packages (from jupyter-client<8.0->ipykernel==6.6.0->mljar-mercury) (23.2.1)\n",
            "Requirement already satisfied: jupyter-core>=4.6.0 in /usr/local/lib/python3.7/dist-packages (from jupyter-client<8.0->ipykernel==6.6.0->mljar-mercury) (4.11.1)\n",
            "Requirement already satisfied: cached-property in /usr/local/lib/python3.7/dist-packages (from kombu<6.0,>=5.1.0->celery==5.1.2->mljar-mercury) (1.5.2)\n",
            "Requirement already satisfied: amqp<6.0.0,>=5.0.9 in /usr/local/lib/python3.7/dist-packages (from kombu<6.0,>=5.1.0->celery==5.1.2->mljar-mercury) (5.1.1)\n",
            "Requirement already satisfied: defusedxml in /usr/local/lib/python3.7/dist-packages (from nbconvert>=6.5.0->mljar-mercury) (0.7.1)\n",
            "Requirement already satisfied: jinja2>=3.0 in /usr/local/lib/python3.7/dist-packages (from nbconvert>=6.5.0->mljar-mercury) (3.1.2)\n",
            "Requirement already satisfied: markupsafe>=2.0 in /usr/local/lib/python3.7/dist-packages (from nbconvert>=6.5.0->mljar-mercury) (2.0.1)\n",
            "Requirement already satisfied: bleach in /usr/local/lib/python3.7/dist-packages (from nbconvert>=6.5.0->mljar-mercury) (5.0.1)\n",
            "Requirement already satisfied: nbclient>=0.5.0 in /usr/local/lib/python3.7/dist-packages (from nbconvert>=6.5.0->mljar-mercury) (0.6.7)\n",
            "Requirement already satisfied: nbformat>=5.1 in /usr/local/lib/python3.7/dist-packages (from nbconvert>=6.5.0->mljar-mercury) (5.4.0)\n",
            "Requirement already satisfied: pandocfilters>=1.4.1 in /usr/local/lib/python3.7/dist-packages (from nbconvert>=6.5.0->mljar-mercury) (1.5.0)\n",
            "Requirement already satisfied: jupyterlab-pygments in /usr/local/lib/python3.7/dist-packages (from nbconvert>=6.5.0->mljar-mercury) (0.2.2)\n",
            "Requirement already satisfied: tinycss2 in /usr/local/lib/python3.7/dist-packages (from nbconvert>=6.5.0->mljar-mercury) (1.1.1)\n",
            "Requirement already satisfied: beautifulsoup4 in /usr/local/lib/python3.7/dist-packages (from nbconvert>=6.5.0->mljar-mercury) (4.6.3)\n",
            "Requirement already satisfied: mistune<3,>=2.0.3 in /usr/local/lib/python3.7/dist-packages (from nbconvert>=6.5.0->mljar-mercury) (2.0.4)\n",
            "Requirement already satisfied: packaging in /usr/local/lib/python3.7/dist-packages (from nbconvert>=6.5.0->mljar-mercury) (21.3)\n",
            "Requirement already satisfied: lxml in /usr/local/lib/python3.7/dist-packages (from nbconvert>=6.5.0->mljar-mercury) (4.9.1)\n",
            "Requirement already satisfied: nest-asyncio in /usr/local/lib/python3.7/dist-packages (from nbclient>=0.5.0->nbconvert>=6.5.0->mljar-mercury) (1.5.5)\n",
            "Requirement already satisfied: fastjsonschema in /usr/local/lib/python3.7/dist-packages (from nbformat>=5.1->nbconvert>=6.5.0->mljar-mercury) (2.16.1)\n",
            "Requirement already satisfied: jsonschema>=2.6 in /usr/local/lib/python3.7/dist-packages (from nbformat>=5.1->nbconvert>=6.5.0->mljar-mercury) (4.3.3)\n",
            "Requirement already satisfied: attrs>=17.4.0 in /usr/local/lib/python3.7/dist-packages (from jsonschema>=2.6->nbformat>=5.1->nbconvert>=6.5.0->mljar-mercury) (22.1.0)\n",
            "Requirement already satisfied: importlib-resources>=1.4.0 in /usr/local/lib/python3.7/dist-packages (from jsonschema>=2.6->nbformat>=5.1->nbconvert>=6.5.0->mljar-mercury) (5.9.0)\n",
            "Requirement already satisfied: pyrsistent!=0.17.0,!=0.17.1,!=0.17.2,>=0.14.0 in /usr/local/lib/python3.7/dist-packages (from jsonschema>=2.6->nbformat>=5.1->nbconvert>=6.5.0->mljar-mercury) (0.18.1)\n",
            "Requirement already satisfied: ptyprocess>=0.5 in /usr/local/lib/python3.7/dist-packages (from pexpect>4.3->ipython==7.30.1->mljar-mercury) (0.7.0)\n",
            "Requirement already satisfied: wcwidth in /usr/local/lib/python3.7/dist-packages (from prompt-toolkit!=3.0.0,!=3.0.1,<3.1.0,>=2.0.0->ipython==7.30.1->mljar-mercury) (0.2.5)\n",
            "Requirement already satisfied: idna<3,>=2.5 in /usr/local/lib/python3.7/dist-packages (from requests>=2.20.1->django-drf-filepond==0.4.1->mljar-mercury) (2.10)\n",
            "Requirement already satisfied: chardet<4,>=3.0.2 in /usr/local/lib/python3.7/dist-packages (from requests>=2.20.1->django-drf-filepond==0.4.1->mljar-mercury) (3.0.4)\n",
            "Requirement already satisfied: webencodings in /usr/local/lib/python3.7/dist-packages (from bleach->nbconvert>=6.5.0->mljar-mercury) (0.5.1)\n",
            "Requirement already satisfied: pyparsing!=3.0.5,>=2.0.2 in /usr/local/lib/python3.7/dist-packages (from packaging->nbconvert>=6.5.0->mljar-mercury) (3.0.9)\n"
          ]
        }
      ],
      "source": [
        "!pip install mljar-mercury"
      ]
    },
    {
      "cell_type": "code",
      "execution_count": null,
      "metadata": {
        "colab": {
          "base_uri": "https://localhost:8080/"
        },
        "id": "W7D4-qciMLNJ",
        "outputId": "a948bc89-cf53-4206-c3d0-d342da735305"
      },
      "outputs": [
        {
          "name": "stdout",
          "output_type": "stream",
          "text": [
            "                                                                                  \n",
            "     _ __ ___   ___ _ __ ___ _   _ _ __ _   _ \n",
            "    | '_ ` _ \\ / _ \\ '__/ __| | | | '__| | | |\n",
            "    | | | | | |  __/ | | (__| |_| | |  | |_| |\n",
            "    |_| |_| |_|\\___|_|  \\___|\\__,_|_|   \\__, |\n",
            "                                         __/ |\n",
            "                                        |___/ \n",
            "        \n",
            "\u001b[36;1mOperations to perform:\u001b[0m\n",
            "\u001b[1m  Apply all migrations: \u001b[0madmin, auth, contenttypes, django_drf_filepond, notebooks, sessions, tasks\n",
            "\u001b[36;1mRunning migrations:\u001b[0m\n",
            "  No migrations to apply.\n",
            "\n",
            "0 static files copied to '/usr/local/lib/python3.7/dist-packages/mercury/static', 199 unmodified.\n",
            "\u001b[1mThe notebook demo.ipynb will be updated\u001b[0m\n",
            "\u001b[32;1mSuccessfully updated a notebook (id:1)\u001b[0m\n",
            "Performing system checks...\n",
            "\n",
            "System check identified no issues (0 silenced).\n",
            "September 01, 2022 - 18:24:35\n",
            "Django version 3.2.5, using settings 'server.settings'\n",
            "Starting development server at http://127.0.0.1:8000/\n",
            "Quit the server with CONTROL-C.\n",
            "\u001b[1;36mcelery beat v5.1.2 (sun-harmonics) is starting.\u001b[0m\n",
            "\u001b[1;34m__    \u001b[1;35m-\u001b[0m\u001b[1;34m    ... __   \u001b[0m\u001b[1;35m-\u001b[0m\u001b[1;34m        _\n",
            "\u001b[0m\u001b[0mLocalTime -> 2022-09-01 18:24:37\n",
            "Configuration ->\n",
            "    . broker -> sqla+sqlite:///celery.sqlite\n",
            "    . loader -> celery.loaders.app.AppLoader\n",
            "    . scheduler -> celery.beat.PersistentScheduler\n",
            "    . db -> celerybeat-schedule\n",
            "    . logfile -> [stderr]@%ERROR\n",
            "    . maxinterval -> 1.00 minute (60s)\u001b[0m\u001b[0m\n",
            "/usr/local/lib/python3.7/dist-packages/celery/platforms.py:835: SecurityWarning: You're running the worker with superuser privileges: this is\n",
            "absolutely not recommended!\n",
            "\n",
            "Please specify a different user using the --uid option.\n",
            "\n",
            "User information: uid=0 euid=0 gid=0 egid=0\n",
            "\n",
            "  uid=uid, euid=euid, gid=gid, egid=egid,\n",
            "\u001b[1;36m \n",
            " -------------- celery@b2879d1694fd v5.1.2 (sun-harmonics)\n",
            "--- ***** ----- \n",
            "-- ******* ---- Linux-5.4.188+-x86_64-with-Ubuntu-18.04-bionic 2022-09-01 18:24:37\n",
            "- *** --- * --- \n",
            "- ** ---------- [config]\n",
            "- ** ---------- .> app:         server:0x7f5e94bdb850\n",
            "- ** ---------- .> transport:   sqla+sqlite:///celery.sqlite\n",
            "- ** ---------- .> results:     sqlite:///celery.sqlite\n",
            "- *** --- * --- .> concurrency: 1 (gevent)\n",
            "-- ******* ---- .> task events: ON\n",
            "--- ***** ----- \n",
            " -------------- [queues]\n",
            "                .> celery           exchange=celery(direct) key=celery\n",
            "                \n",
            "\u001b[0m\u001b[0m\u001b[0m\n",
            "\n",
            "worker: Hitting Ctrl+C again will terminate all running tasks!\n",
            "\n",
            "worker: Warm shutdown (MainProcess)\n",
            "^C\n"
          ]
        }
      ],
      "source": [
        "!mercury run demo"
      ]
    },
    {
      "cell_type": "code",
      "execution_count": null,
      "metadata": {
        "colab": {
          "background_save": true,
          "base_uri": "https://localhost:8080/"
        },
        "id": "xIEDRViQNqSp",
        "outputId": "619b9d3c-b211-4eeb-c08f-be0a525fcdec"
      },
      "outputs": [
        {
          "name": "stdout",
          "output_type": "stream",
          "text": [
            "\u001b[36;1mOperations to perform:\u001b[0m\n",
            "\u001b[1m  Apply all migrations: \u001b[0madmin, auth, contenttypes, django_drf_filepond, notebooks, sessions, tasks\n",
            "\u001b[36;1mRunning migrations:\u001b[0m\n",
            "  No migrations to apply.\n",
            "\u001b[1mWatching notebook rock_paper_scissors_game.ipynb\u001b[0m\n",
            "Error during notebook initialization. [Errno 2] No such file or directory: 'rock_paper_scissors_game.ipynb'\n",
            "\u001b[32;1m-----------------------------------------------------\u001b[0m\n",
            "\u001b[32;1m                                                                                  \n",
            "     _ __ ___   ___ _ __ ___ _   _ _ __ _   _ \n",
            "    | '_ ` _ \\ / _ \\ '__/ __| | | | '__| | | |\n",
            "    | | | | | |  __/ | | (__| |_| | |  | |_| |\n",
            "    |_| |_| |_|\\___|_|  \\___|\\__,_|_|   \\__, |\n",
            "                                         __/ |\n",
            "                                        |___/ \n",
            "            \u001b[0m\n",
            "\u001b[32;1m-----------------------------------------------------\u001b[0m\n",
            "\u001b[32;1mPlease open the following address in your web browser\u001b[0m\n",
            "\u001b[32;1m--> http://127.0.0.1:8000/app/None\u001b[0m\n",
            "\u001b[32;1m-----------------------------------------------------\u001b[0m\n",
            "Performing system checks...\n",
            "\n",
            "System check identified no issues (0 silenced).\n",
            "September 01, 2022 - 19:11:40\n",
            "Django version 3.2.5, using settings 'server.settings'\n",
            "Starting development server at http://127.0.0.1:8000/\n",
            "Quit the server with CONTROL-C.\n",
            "/usr/local/lib/python3.7/dist-packages/celery/platforms.py:835: SecurityWarning: You're running the worker with superuser privileges: this is\n",
            "absolutely not recommended!\n",
            "\n",
            "Please specify a different user using the --uid option.\n",
            "\n",
            "User information: uid=0 euid=0 gid=0 egid=0\n",
            "\n",
            "  uid=uid, euid=euid, gid=gid, egid=egid,\n",
            "\u001b[1;36m \n",
            " -------------- celery@b2879d1694fd v5.1.2 (sun-harmonics)\n",
            "--- ***** ----- \n",
            "-- ******* ---- Linux-5.4.188+-x86_64-with-Ubuntu-18.04-bionic 2022-09-01 19:11:40\n",
            "- *** --- * --- \n",
            "- ** ---------- [config]\n",
            "- ** ---------- .> app:         server:0x7f08cc688810\n",
            "- ** ---------- .> transport:   sqla+sqlite:///celery.sqlite\n",
            "- ** ---------- .> results:     sqlite:///celery.sqlite\n",
            "- *** --- * --- .> concurrency: 1 (gevent)\n",
            "-- ******* ---- .> task events: ON\n",
            "--- ***** ----- \n",
            " -------------- [queues]\n",
            "                .> celery           exchange=celery(direct) key=celery\n",
            "                \n",
            "\u001b[0m\u001b[0m\u001b[0m\n"
          ]
        }
      ],
      "source": [
        "!mercury watch rock_paper_scissors_game.ipynb"
      ]
    }
  ],
  "metadata": {
    "colab": {
      "collapsed_sections": [],
      "provenance": [],
      "authorship_tag": "ABX9TyPjWoDP6XS4s1kl5Sy0QfuM",
      "include_colab_link": true
    },
    "kernelspec": {
      "display_name": "Python 3",
      "name": "python3"
    },
    "language_info": {
      "name": "python"
    }
  },
  "nbformat": 4,
  "nbformat_minor": 0
}